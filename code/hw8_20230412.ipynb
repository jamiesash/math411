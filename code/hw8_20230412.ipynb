{
 "cells": [
  {
   "cell_type": "markdown",
   "id": "523dc7f3",
   "metadata": {},
   "source": [
    "**Question 3.**"
   ]
  },
  {
   "cell_type": "markdown",
   "id": "b18207e4",
   "metadata": {},
   "source": [
    "I'm not able to draw the triangle in LateX but I'm treating $f(x) = 0$ as the origin, and $g(x), h(x), g(x) - h(x)$\n",
    "as the vectors that tform the sides. To the length of the sides will be $||g(x)||, ||h(x)||, ||g(x) - h(x)||$. \n",
    "$$\n",
    "||g|| = \\int_0^1 g(x)g(x)dx \\\\\n",
    "$$"
   ]
  },
  {
   "cell_type": "markdown",
   "id": "1ca838a4",
   "metadata": {},
   "source": [
    "Throw in $g(x) = x^2$, and integrate. \n",
    "$$\n",
    "||g(x)|| = \\int_0^1 x^4 dx \\\\\n",
    "||g(x)|| =  \\sqrt{1/5}\n",
    "$$"
   ]
  },
  {
   "cell_type": "markdown",
   "id": "a5bebf8e",
   "metadata": {},
   "source": [
    "Do the same for $h(x)$, and $h(x) - g(x)$. "
   ]
  },
  {
   "cell_type": "markdown",
   "id": "a4ae3b8a",
   "metadata": {},
   "source": [
    "$$\n",
    "||h(x)|| = \\int_0^1 (x^3 - 1)(x^3 - 1)dx \\\\\n",
    "||h(x)|| = \\sqrt{\\frac{9}{14}}\n",
    "$$\n"
   ]
  },
  {
   "cell_type": "markdown",
   "id": "fafe2d1b",
   "metadata": {},
   "source": [
    "Now for $||g(x) - h(x)||$...\n",
    "$$\n",
    "||g(x) - h(x)|| = \\sqrt{\\int_0^1 x^2 - (x^3 - 1)} \\\\ \n",
    "||g(x) - h(x)|| = \\sqrt{\\frac{247}{210}}\n",
    "$$"
   ]
  },
  {
   "cell_type": "markdown",
   "id": "d5882033",
   "metadata": {},
   "source": [
    "Now finding the angles betweeen the vectors by defining the cosin function as...\n",
    "\n",
    "$$\n",
    "cos\\theta_1 = \\frac{<g(x), h(x)>}{||g(x)|| * ||h(x)||} \\\\\n",
    "$$"
   ]
  },
  {
   "cell_type": "markdown",
   "id": "496c8585",
   "metadata": {},
   "source": [
    "$$\n",
    "cos\\theta_1 = \\frac{\\int_0^1 x^2 (x^3 - 1) dx}{x^2 * (x^3 - 1)}\\\\\n",
    "cos\\theta_1 = 0.464 \\\\\n",
    "\\theta_1 = 62.35^\\circ\n",
    "$$\n",
    "or $1.08$ rads"
   ]
  },
  {
   "cell_type": "markdown",
   "id": "cce2337b",
   "metadata": {},
   "source": [
    "Now for the angle between g(x) and h(x)-g(x).\n",
    "\n",
    "$$\n",
    "cos\\theta_2 = \\frac{<g(x), h(x)-g(x)>}{||g(x)|| * ||h(x)-g(x)||}\n",
    "$$"
   ]
  },
  {
   "cell_type": "markdown",
   "id": "dcead61d",
   "metadata": {},
   "source": [
    "$$\n",
    "cos\\theta_2 = \\frac{\\int^1_0 x^2 (x^2 - x^3 + 1)) dx}{\\sqrt{\\frac{1}{5}} * \\sqrt{\\frac{247}{210}}} = 0.755 \\\\\n",
    "\\theta_2 = 40.97^\\circ\n",
    "$$\n",
    "or 0.715 rads. "
   ]
  },
  {
   "cell_type": "markdown",
   "id": "6ce9c29a",
   "metadata": {},
   "source": [
    "Now for the angle between h(x) and h(x)-g(x).\n",
    "$$\n",
    "cos\\theta_3 = \\frac{<h(x), h(x)-g(x)>}{||h(x)|| * ||h(x)-g(x)||}\n",
    "$$"
   ]
  },
  {
   "cell_type": "markdown",
   "id": "93b13c2a",
   "metadata": {},
   "source": [
    "$$\n",
    "cos\\theta_3 =  \\frac{\\int^1_0 (x^3-1)(x^2 - x^3 + 1)) dx}{\\sqrt{\\frac{9}{14}} * \\sqrt{\\frac{247}{210}}} \\\\\n",
    "cos\\theta_3 = 0.9309 \\\\\n",
    "\\theta_3 = 21.42^\\circ\n",
    "$$\n",
    "or $0.373$ rads. "
   ]
  },
  {
   "cell_type": "markdown",
   "id": "8415c124",
   "metadata": {},
   "source": [
    "**Question 5.**"
   ]
  },
  {
   "cell_type": "markdown",
   "id": "7d280b6a",
   "metadata": {},
   "source": [
    "To project $I$ onto the space of asymetic matrices we need to determine a basis for teh asymetric matrices, idealy we'll be anle to begin with an orthonormal basis. (idk if to project and get the closest point the basis needs to be orthonormal or not). \n",
    "So the steps will be...  \n",
    "    (a) define an orthonormal basis for $U$  \n",
    "    (b) using the niner product, project $I$ onto $U$.   \n",
    "    (c) draw insight.   "
   ]
  },
  {
   "cell_type": "markdown",
   "id": "9c88cdf4",
   "metadata": {},
   "source": [
    "All $3\\times3$ asymetric matrices have the form \n",
    "$$\n",
    "\\begin{pmatrix}\n",
    " 0 & a & b \\\\\n",
    "-a & 0 & c \\\\\n",
    "-b &-c & 0\n",
    "\\end{pmatrix}\n",
    "$$\n",
    "So this is a three dimensional space, given by $a, b,$ and $c$. All asymetric matrixes have 0's along the idagonal. That is because 0 is the only real number, given by $k \\in \\mathbb{R}$, where $-k = k$. The space is spanned by the standard beasis...\n",
    "\n",
    "$$\n",
    "span(U) = \n",
    "\\begin{pmatrix}\n",
    " 0 & 1 & 0 \\\\\n",
    "-1 & 0 & 0 \\\\\n",
    " 0 & 0 & 0\n",
    "\\end{pmatrix},\n",
    "\\begin{pmatrix}\n",
    "  0 & 0 & 1 \\\\\n",
    "  0 & 0 & 0 \\\\\n",
    " -1 & 0 & 0\n",
    "\\end{pmatrix},\n",
    "\\begin{pmatrix}\n",
    "  0 & 0 & 0 \\\\\n",
    "  0 & 0 & 1 \\\\\n",
    "  0 & -1 & 0\n",
    "\\end{pmatrix},\n",
    "$$"
   ]
  },
  {
   "cell_type": "markdown",
   "id": "7cc04497",
   "metadata": {},
   "source": [
    "We can now project $I$ onto $U$. "
   ]
  },
  {
   "cell_type": "markdown",
   "id": "dc90d1bc",
   "metadata": {},
   "source": [
    "The closest point of $I$ to $U$ is given by the projection, which is the sum of the projection of $I$ onto each basis for $U$, shown below. \n",
    "\n",
    "$$\n",
    "proj_u(I) = \\frac{<I, u_i>u_1}{||u_1||} + \\frac{<I, u_2>u_2}{||u_2||} + \\frac{<I, u_i>u_3}{||u_3||} \\\\\n",
    "$$"
   ]
  },
  {
   "cell_type": "markdown",
   "id": "83ecbbc2",
   "metadata": {},
   "source": [
    "To begin, let's find the norm of the standard basis for $U$. Lets start calling those standard basis $\\{u_1, u_2, u_3 \\}$.\n",
    "\n",
    "$$\n",
    "\\text{norm } u_1 = \n",
    "\\sqrt{\n",
    "trace(\n",
    "\\begin{pmatrix}\n",
    " 0 & 1 & 0 \\\\\n",
    "-1 & 0 & 0 \\\\\n",
    " 0 & 0 & 0\n",
    "\\end{pmatrix}^T\n",
    "\\times\n",
    "\\begin{pmatrix}\n",
    " 0 & 1 & 0 \\\\\n",
    "-1 & 0 & 0 \\\\\n",
    " 0 & 0 & 0\n",
    "\\end{pmatrix})}\n",
    "= \n",
    "\\sqrt{2}\n",
    "$$\n",
    "\n",
    "Good, an irrational number. Turns out the norm of all three basis are equal.\n",
    "$$\n",
    "||u_1|| = ||u_2|| = ||u_3|| = \\sqrt{2}\n",
    "$$"
   ]
  },
  {
   "cell_type": "markdown",
   "id": "f5dbf241",
   "metadata": {},
   "source": [
    "Now lets find the inner products of the basis vectors...\n",
    "\n",
    "$$\n",
    "<u_1, I> = trace(u_1^T I) = trace(-u_1 I) = 0 \n",
    "$$\n",
    "\n",
    "So $I$ is orthogonal to $u_1$. This is interesting. Because $I$ is symetric and diagonmal, it has only 0's for the non-diagonal components. This means the trace of $I$ times and asymetric matrix (0's along the dioagonal) will be $0$. So I is orthogonal to the basis of $U$. \n",
    "$$\n",
    "<u_2, I> = trace(u_2^T I) = trace(-u_2 I) = 0 \n",
    "$$\n",
    "\n",
    "$$\n",
    "<u_3, I> = trace(u_3^T I) = trace(-u_3 I) = 0 \n",
    "$$\n"
   ]
  },
  {
   "cell_type": "markdown",
   "id": "869599b3",
   "metadata": {},
   "source": [
    "This makes our projection pretty easy.\n",
    "\n",
    "$$\n",
    "proj_u(I) = \\frac{0 * u_1}{\\sqrt{2}} + \\frac{0 * u_2}{\\sqrt{2}} + \\frac{0*u_3}{\\sqrt{2}} \n",
    "= \n",
    "\\begin{pmatrix}\n",
    " 0 & 0 & 0 \\\\\n",
    " 0 & 0 & 0 \\\\\n",
    " 0 & 0 & 0\n",
    "\\end{pmatrix}\n",
    "$$"
   ]
  },
  {
   "cell_type": "markdown",
   "id": "ab258a04",
   "metadata": {},
   "source": [
    "So the closest point is the zero matrix. I have a though on this. If we can diagonalize any symetric matrix (spectral theorum), then are all symetric matrixes orthogonal to the space of asymetric matrixes? Since any diagonal matrix times an asymetric matrix (zero's along te diagonal) will be the zero matrix. "
   ]
  },
  {
   "cell_type": "markdown",
   "id": "9a184b48",
   "metadata": {},
   "source": [
    "Now to find the distance between $I$ and the zero matrix. I bet I'll need to do distances for the final test.  "
   ]
  },
  {
   "cell_type": "markdown",
   "id": "0aeca58e",
   "metadata": {},
   "source": [
    "We have $dist(U, I) = dist(0_3, I) = ||I - 0_3||$. This is...\n",
    "\n",
    "$$\n",
    "dist(0_3, I) = \n",
    "\\sqrt{\n",
    "trace(\n",
    "\\begin{pmatrix}\n",
    "  1 &  0 & 0 \\\\\n",
    "  0 &  1 & 0 \\\\\n",
    "  0 &  0 & 1\n",
    "\\end{pmatrix}\n",
    ") ^T\n",
    "\\times\n",
    "\\begin{pmatrix}\n",
    " 1 &  0 & 0 \\\\\n",
    "  0 & 1 & 0 \\\\\n",
    "  0 & 0 & 1\n",
    "\\end{pmatrix}\n",
    ")} \n",
    "= \\sqrt{3}\n",
    "$$\n",
    "\n",
    "So ya, the angle of $I$ and the space or asymetric matixes, ($U$) is orthogonal, the closest point in $U$ to $I$ is the zero matrix, and the distance from the space $U$ to $I$ is $\\sqrt{3}$."
   ]
  },
  {
   "cell_type": "markdown",
   "id": "ec55bf32",
   "metadata": {},
   "source": [
    "\n",
    "\n",
    "\n",
    "\n",
    "\n",
    "\n",
    "\n",
    "\n",
    "\n",
    "\n",
    "\n",
    "\n",
    "\n",
    "\n",
    "\n",
    "\n",
    "\n",
    "\n",
    "\n",
    "\n",
    "\n",
    "\n",
    "\n",
    "\n"
   ]
  }
 ],
 "metadata": {
  "kernelspec": {
   "display_name": "Python 3 (ipykernel)",
   "language": "python",
   "name": "python3"
  },
  "language_info": {
   "codemirror_mode": {
    "name": "ipython",
    "version": 3
   },
   "file_extension": ".py",
   "mimetype": "text/x-python",
   "name": "python",
   "nbconvert_exporter": "python",
   "pygments_lexer": "ipython3",
   "version": "3.9.15"
  }
 },
 "nbformat": 4,
 "nbformat_minor": 5
}
