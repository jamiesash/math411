{
 "cells": [
  {
   "cell_type": "markdown",
   "id": "88eff286",
   "metadata": {},
   "source": [
    "**1. Let $C_n$ be the graph consisting of $n$ vertices all arranged in an $n$-gon. So $C_3$ is a triangle, $C_4$ is a square, $C_5$ is a pentagon, etc.**"
   ]
  },
  {
   "cell_type": "markdown",
   "id": "a4730e68",
   "metadata": {},
   "source": [
    "**(a) For $n = 3, 4, 5$ find the eigenvalues of the adjacency matrix of Cn and their multiplicities.** "
   ]
  },
  {
   "cell_type": "code",
   "execution_count": 2,
   "id": "1eef0db4",
   "metadata": {},
   "outputs": [],
   "source": [
    "import numpy as np\n",
    "import sympy as sy"
   ]
  },
  {
   "cell_type": "code",
   "execution_count": 3,
   "id": "edad8448",
   "metadata": {},
   "outputs": [
    {
     "data": {
      "text/plain": [
       "{2: 1, -1: 2}"
      ]
     },
     "execution_count": 3,
     "metadata": {},
     "output_type": "execute_result"
    }
   ],
   "source": [
    "A = np.array([[0, 1, 1],\n",
    "              [1, 0, 1],\n",
    "              [1, 1, 0]])\n",
    "A = sy.Matrix(A)\n",
    "# A.jordan_form()\n",
    "A.eigenvals()"
   ]
  },
  {
   "cell_type": "markdown",
   "id": "930297c5",
   "metadata": {},
   "source": [
    "So eigenvalue 2 appears once, eigenvalue -1 appears twice. \n",
    "I also calculated this by hand, and used sympy to view the jordan form. "
   ]
  },
  {
   "cell_type": "code",
   "execution_count": 7,
   "id": "a4a16aa3",
   "metadata": {},
   "outputs": [
    {
     "data": {
      "text/plain": [
       "{-2: 1, 2: 1, 0: 2}"
      ]
     },
     "execution_count": 7,
     "metadata": {},
     "output_type": "execute_result"
    }
   ],
   "source": [
    "A = np.array([[0, 1, 1, 0],\n",
    "              [1, 0, 0, 1],\n",
    "              [1, 0, 0, 1],\n",
    "              [0, 1, 1, 0]])\n",
    "A = sy.Matrix(A)\n",
    "# A.jordan_form()\n",
    "A. eigenvals()"
   ]
  },
  {
   "cell_type": "markdown",
   "id": "44ce6953",
   "metadata": {},
   "source": [
    "Again eigenvalue -2 apears once. Eigenvalue 2 apears once. Eigenvalue 0 apears twice. "
   ]
  },
  {
   "cell_type": "code",
   "execution_count": 9,
   "id": "cf9d9762",
   "metadata": {},
   "outputs": [
    {
     "data": {
      "text/plain": [
       "{2: 1, -sqrt(5)/2 - 1/2: 2, -1/2 + sqrt(5)/2: 2}"
      ]
     },
     "execution_count": 9,
     "metadata": {},
     "output_type": "execute_result"
    }
   ],
   "source": [
    "A = np.array([[0, 1, 0, 0, 1],\n",
    "              [1, 0, 1, 0, 0],\n",
    "              [0, 1, 0, 1, 0],\n",
    "              [0, 0, 1, 0, 1],\n",
    "              [1, 0, 0, 1, 0]])\n",
    "A = sy.Matrix(A)\n",
    "# A.jordan_form()\n",
    "A.eigenvals()"
   ]
  },
  {
   "cell_type": "markdown",
   "id": "2bbefeab",
   "metadata": {},
   "source": [
    "Eigenvalue 2 apears once. Eigenvalue $\\frac{\\sqrt{5}}{2}-\\frac{1}{2}$ apears twice. \n",
    "Eigenvalue $-\\frac{1}{2} + \\frac{\\sqrt{5}}{2}$ apears twice. "
   ]
  },
  {
   "cell_type": "markdown",
   "id": "321222dc",
   "metadata": {},
   "source": [
    "**(b) For which values of n will $−2$ be an eigenvalue of the adjacency matrix of $C_n$? Explain your answer.** "
   ]
  },
  {
   "cell_type": "markdown",
   "id": "0cfa0b27",
   "metadata": {},
   "source": [
    "Well, from the answer above I expect -2 to apear for even values of $n$ in $2$-regular graphs with $n$ vertices. These n-gons are 2-regular graphs. I do not have an explination yet. \n",
    "\n",
    "After reading the notes I've fouynd that a -k eigenvalue apears when there is a bipartite  component. See question 5. "
   ]
  },
  {
   "cell_type": "markdown",
   "id": "b6914cee",
   "metadata": {},
   "source": [
    "**(c) For $n = 4$, how many paths of length 100 are there that start and end at vertex $1$?** "
   ]
  },
  {
   "cell_type": "code",
   "execution_count": 10,
   "id": "c8833c12",
   "metadata": {},
   "outputs": [
    {
     "data": {
      "text/latex": [
       "$\\displaystyle 633825300114114700748351602688$"
      ],
      "text/plain": [
       "633825300114114700748351602688"
      ]
     },
     "execution_count": 10,
     "metadata": {},
     "output_type": "execute_result"
    }
   ],
   "source": [
    "A = np.array([[0, 1, 0, 1],\n",
    "              [1, 0, 1, 0],\n",
    "              [0, 1, 0, 1],\n",
    "              [1, 0, 1, 0]])\n",
    "A = sy.Matrix(A)\n",
    "P, D = A.jordan_form()\n",
    "\n",
    "A100 = A**100\n",
    "A100[1,1]"
   ]
  },
  {
   "cell_type": "markdown",
   "id": "d1fc6655",
   "metadata": {},
   "source": [
    "I've diagonalized this matrix as a first step.If I was doing this by hand I might want to raise the diagonalized matrix to the $100$'th power. But with the computer I can caclulate $A^{100}$ directly. Each element of $A^{100}$ represents the paths from $i$ to $j$, where $i,j$ are the rows and columns of $A^{100}$ respectivly.  "
   ]
  },
  {
   "cell_type": "markdown",
   "id": "15656405",
   "metadata": {},
   "source": [
    "**(d) For $n = 4$, what is the probability that a random path of length $100$ that starts at vertex $1$ will end at vertex $3$? If the length of the path gets very big, what number do you expect this probability to approach? Explain.**  "
   ]
  },
  {
   "cell_type": "code",
   "execution_count": 16,
   "id": "2a7dc097",
   "metadata": {},
   "outputs": [
    {
     "data": {
      "text/latex": [
       "$\\displaystyle 12.5$"
      ],
      "text/plain": [
       "12.5000000000000"
      ]
     },
     "execution_count": 16,
     "metadata": {},
     "output_type": "execute_result"
    }
   ],
   "source": [
    "A = np.array([[0, 1, 0, 1],\n",
    "              [1, 0, 1, 0],\n",
    "              [0, 1, 0, 1],\n",
    "              [1, 0, 1, 0]])\n",
    "A = sy.Matrix(A)\n",
    "toss, D = A.jordan_form()\n",
    "\n",
    "A100 = A**100\n",
    "p = A100[1,3] / sum(A100)\n",
    "p = sy.Float(p)\n",
    "# convert to percent\n",
    "p * 100"
   ]
  },
  {
   "cell_type": "markdown",
   "id": "a4c0eef2",
   "metadata": {},
   "source": [
    "I find that there is a 12% chance. Maybe I'm doing this wrong but I do not expect this value to change as the power of A ingreases. "
   ]
  },
  {
   "cell_type": "markdown",
   "id": "665129dc",
   "metadata": {},
   "source": [
    "**2. Consider the following two graphs: $G_1$ is the graph consisting of four vertices with edges forming a square (so, so far we have four vertices and four edges), together with one more vertex in the middle of the square that is connected to nothing. The graph $G_2$ is on the same vertices, and it has $4$ edges: one from the middle vertex to each of the other vertices. So - it has one central vertex connected to four other vertices, and no further edges. This is called a star graph. These two graphs are very different. Show that their adjacency matrices have the same eigenvalues with the same multiplicities.**"
   ]
  },
  {
   "cell_type": "markdown",
   "id": "9dd4b6e8",
   "metadata": {},
   "source": [
    "Here are the adjacency matirces for teh graphs. Instead of solving for their charaacteristic polynomial by had ie. calculating $det(xI - A) = 0$, I put them into jordan normal form using the sympy package, and view the eigenvalues along the diagonal."
   ]
  },
  {
   "cell_type": "code",
   "execution_count": 34,
   "id": "ec74b59a",
   "metadata": {},
   "outputs": [],
   "source": [
    "G1 = np.array([[0, 1, 0, 1, 0],\n",
    "               [1, 0, 1, 0, 0],\n",
    "               [0, 1, 0, 1, 0],\n",
    "               [1, 0, 1, 0, 0],\n",
    "               [0, 0, 0, 0, 0]])\n",
    "\n",
    "G2 = np.array([[0, 0, 0, 0, 1],\n",
    "               [0, 0, 0, 0, 1],\n",
    "               [0, 0, 0, 0, 1],\n",
    "               [0, 0, 0, 0, 1],\n",
    "               [1, 1, 1, 1, 0]])\n",
    "\n",
    "G1 = sy.Matrix(G1)\n",
    "G2 = sy.Matrix(G2)\n",
    "J1 = G1.jordan_form()\n",
    "J2 = G2.jordan_form()"
   ]
  },
  {
   "cell_type": "code",
   "execution_count": 31,
   "id": "5c44ba92",
   "metadata": {},
   "outputs": [
    {
     "data": {
      "text/latex": [
       "$\\displaystyle \\left[\\begin{matrix}-2 & 0 & 0 & 0 & 0\\\\0 & 0 & 0 & 0 & 0\\\\0 & 0 & 0 & 0 & 0\\\\0 & 0 & 0 & 0 & 0\\\\0 & 0 & 0 & 0 & 2\\end{matrix}\\right]$"
      ],
      "text/plain": [
       "Matrix([\n",
       "[-2, 0, 0, 0, 0],\n",
       "[ 0, 0, 0, 0, 0],\n",
       "[ 0, 0, 0, 0, 0],\n",
       "[ 0, 0, 0, 0, 0],\n",
       "[ 0, 0, 0, 0, 2]])"
      ]
     },
     "execution_count": 31,
     "metadata": {},
     "output_type": "execute_result"
    }
   ],
   "source": [
    "J1[1]"
   ]
  },
  {
   "cell_type": "code",
   "execution_count": 33,
   "id": "e3bf78e1",
   "metadata": {},
   "outputs": [
    {
     "data": {
      "text/latex": [
       "$\\displaystyle \\left[\\begin{matrix}-2 & 0 & 0 & 0 & 0\\\\0 & 0 & 0 & 0 & 0\\\\0 & 0 & 0 & 0 & 0\\\\0 & 0 & 0 & 0 & 0\\\\0 & 0 & 0 & 0 & 2\\end{matrix}\\right]$"
      ],
      "text/plain": [
       "Matrix([\n",
       "[-2, 0, 0, 0, 0],\n",
       "[ 0, 0, 0, 0, 0],\n",
       "[ 0, 0, 0, 0, 0],\n",
       "[ 0, 0, 0, 0, 0],\n",
       "[ 0, 0, 0, 0, 2]])"
      ]
     },
     "execution_count": 33,
     "metadata": {},
     "output_type": "execute_result"
    }
   ],
   "source": [
    "J2[1]"
   ]
  },
  {
   "cell_type": "markdown",
   "id": "8f35b3eb",
   "metadata": {},
   "source": [
    "Above are the jordan form for the adjacency matrixes of $G^1$ and $G^2$. as we can see the eigenvalue $-2$ shpows up once. The eigenvalue 2 shows up once. The eigenvalue $0$ shows up three times in both matrices. So while the graphs are very different the eigenvalues are the same. "
   ]
  },
  {
   "cell_type": "markdown",
   "id": "40cfea2e",
   "metadata": {},
   "source": [
    "**3 . Let $N ∈ M_4(R)$ be the matrix whose entries are all $1$’s. Let $A = N − I$.   \n",
    "(a) The matrix $A$ is an adjacency matrix of a graph. Which graph is it?  \n",
    "(b) Show that $A^2 − 2A − 3I = 0$.  \n",
    "(c) Show that $3$ is an eigenvalue of $A$ of multiplicity $1$.  \n",
    "(d) Are there any other eigenvalues? If so, what are their multiplicities?  \n",
    "(e) What is the determinant of $A$?**  "
   ]
  },
  {
   "cell_type": "code",
   "execution_count": 12,
   "id": "29e80268",
   "metadata": {},
   "outputs": [
    {
     "data": {
      "text/latex": [
       "$\\displaystyle \\left[\\begin{matrix}0 & 1.0 & 1.0 & 1.0\\\\1.0 & 0 & 1.0 & 1.0\\\\1.0 & 1.0 & 0 & 1.0\\\\1.0 & 1.0 & 1.0 & 0\\end{matrix}\\right]$"
      ],
      "text/plain": [
       "Matrix([\n",
       "[  0, 1.0, 1.0, 1.0],\n",
       "[1.0,   0, 1.0, 1.0],\n",
       "[1.0, 1.0,   0, 1.0],\n",
       "[1.0, 1.0, 1.0,   0]])"
      ]
     },
     "execution_count": 12,
     "metadata": {},
     "output_type": "execute_result"
    }
   ],
   "source": [
    "N = np.ones((4,4))\n",
    "I = np.array([[1, 0, 0, 0],\n",
    "              [0, 1, 0, 0],\n",
    "              [0, 0, 1, 0],\n",
    "              [0, 0, 0, 1],\n",
    "             ])\n",
    "I = sy.Matrix(I)\n",
    "N = sy.Matrix(N)\n",
    "\n",
    "A = N - I\n",
    "A"
   ]
  },
  {
   "cell_type": "markdown",
   "id": "47f457a5",
   "metadata": {},
   "source": [
    "The graph is a  square with all the cross vectors con"
   ]
  },
  {
   "cell_type": "code",
   "execution_count": 13,
   "id": "cd8383d7",
   "metadata": {
    "scrolled": true
   },
   "outputs": [
    {
     "data": {
      "text/latex": [
       "$\\displaystyle \\left[\\begin{matrix}0 & 0 & 0 & 0\\\\0 & 0 & 0 & 0\\\\0 & 0 & 0 & 0\\\\0 & 0 & 0 & 0\\end{matrix}\\right]$"
      ],
      "text/plain": [
       "Matrix([\n",
       "[0, 0, 0, 0],\n",
       "[0, 0, 0, 0],\n",
       "[0, 0, 0, 0],\n",
       "[0, 0, 0, 0]])"
      ]
     },
     "execution_count": 13,
     "metadata": {},
     "output_type": "execute_result"
    }
   ],
   "source": [
    "A**2 - 2*A - 3*I "
   ]
  },
  {
   "cell_type": "code",
   "execution_count": 14,
   "id": "0574beea",
   "metadata": {},
   "outputs": [
    {
     "data": {
      "text/plain": [
       "[Matrix([\n",
       " [-1.0, -1.0, -1.0, 1.0],\n",
       " [ 1.0,    0,    0, 1.0],\n",
       " [   0,  1.0,    0, 1.0],\n",
       " [   0,    0,  1.0, 1.0]]),\n",
       " Matrix([\n",
       " [-1.0,    0,    0,   0],\n",
       " [   0, -1.0,    0,   0],\n",
       " [   0,    0, -1.0,   0],\n",
       " [   0,    0,    0, 3.0]])]"
      ]
     },
     "execution_count": 14,
     "metadata": {},
     "output_type": "execute_result"
    }
   ],
   "source": [
    "A.jordan_form()"
   ]
  },
  {
   "cell_type": "code",
   "execution_count": 15,
   "id": "822f2b7d",
   "metadata": {},
   "outputs": [
    {
     "data": {
      "text/latex": [
       "$\\displaystyle -3.0$"
      ],
      "text/plain": [
       "-3.00000000000000"
      ]
     },
     "execution_count": 15,
     "metadata": {},
     "output_type": "execute_result"
    }
   ],
   "source": [
    "A.det()"
   ]
  },
  {
   "cell_type": "markdown",
   "id": "d6bf6d58",
   "metadata": {},
   "source": [
    "This can be acheaved by multiplying the eigenvalues."
   ]
  },
  {
   "cell_type": "markdown",
   "id": "b9055572",
   "metadata": {},
   "source": [
    "**4. Let $A ∈ M_3(R)$ be an orthogonal $3 \\times 3$ matrix.\n",
    "(a) Show that $P_A(x)$ has a real root.\n",
    "(b) Show that any real eigenvalues of $A$ have to be either $1$ or $−1$.  \n",
    "(c) Show that if det $A = 1$, then $1$ must be an eigenvalue of $A$.  \n",
    "(d) Show that if det $A = 1$ then $A$ is a rotation about some axis.  \n",
    "(e) Show that the product of two rotations about the origin in $R_\n",
    "3$ is again a rotation.**  "
   ]
  },
  {
   "cell_type": "markdown",
   "id": "46eb2282",
   "metadata": {},
   "source": []
  },
  {
   "cell_type": "markdown",
   "id": "b51edb12",
   "metadata": {},
   "source": [
    "**5. Explain why the adjacency matrix of a $k$-regular graph has $−k$ as an eigenvalue if and only if the graph has a bi-partite component.**"
   ]
  },
  {
   "cell_type": "markdown",
   "id": "873e567d",
   "metadata": {},
   "source": []
  },
  {
   "cell_type": "markdown",
   "id": "0c9bbbb0",
   "metadata": {},
   "source": [
    "**6. Give examples of $4$-regular graphs where the eigenvalues of the adjacency matrix have the following properties.  \n",
    "(a) $4$ is an eigenvalue of multiplicity $1$, and $−4$ is not an eigenvalue.  \n",
    "(b) $4$ is an eigenvalue of multiplicity $3$ and $−4$ is an eigenvalue of multiplicity $2$.**  "
   ]
  },
  {
   "cell_type": "markdown",
   "id": "f51d4baa",
   "metadata": {},
   "source": [
    "This one hurt, but I've done it. "
   ]
  },
  {
   "cell_type": "code",
   "execution_count": null,
   "id": "83782b03",
   "metadata": {},
   "outputs": [],
   "source": [
    "G13 = np.array([[0, 0, 0, 0, 1, 1, 1, 1, 0, 0, 0, 0, 0, 0, 0, 0, 0, 0, 0, 0, 0, 0, 0, 0, 0, 0, 0, 0, 0, 0, 0],\n",
    "                [0, 0, 0, 0, 1, 1, 1, 1, 0, 0, 0, 0, 0, 0, 0, 0, 0, 0, 0, 0, 0, 0, 0, 0, 0, 0, 0, 0, 0, 0, 0],\n",
    "                [0, 0, 0, 0, 1, 1, 1, 1, 0, 0, 0, 0, 0, 0, 0, 0, 0, 0, 0, 0, 0, 0, 0, 0, 0, 0, 0, 0, 0, 0, 0],\n",
    "                [0, 0, 0, 0, 1, 1, 1, 1, 0, 0, 0, 0, 0, 0, 0, 0, 0, 0, 0, 0, 0, 0, 0, 0, 0, 0, 0, 0, 0, 0, 0],\n",
    "                [1, 1, 1, 1, 0, 0, 0, 0, 0, 0, 0, 0, 0, 0, 0, 0, 0, 0, 0, 0, 0, 0, 0, 0, 0, 0, 0, 0, 0, 0, 0],\n",
    "                [1, 1, 1, 1, 0, 0, 0, 0, 0, 0, 0, 0, 0, 0, 0, 0, 0, 0, 0, 0, 0, 0, 0, 0, 0, 0, 0, 0, 0, 0, 0],\n",
    "                [1, 1, 1, 1, 0, 0, 0, 0, 0, 0, 0, 0, 0, 0, 0, 0, 0, 0, 0, 0, 0, 0, 0, 0, 0, 0, 0, 0, 0, 0, 0],\n",
    "                [1, 1, 1, 1, 0, 0, 0, 0, 0, 0, 0, 0, 0, 0, 0, 0, 0, 0, 0, 0, 0, 0, 0, 0, 0, 0, 0, 0, 0, 0, 0],\n",
    "                [0, 0, 0, 0, 0, 0, 0, 0, 0, 1, 1, 1, 1, 0, 0, 0, 0, 0, 0, 0, 0, 0, 0, 0, 0, 0, 0, 0, 0, 0, 0],\n",
    "                [0, 0, 0, 0, 0, 0, 0, 0, 1, 0, 1, 1, 1, 0, 0, 0, 0, 0, 0, 0, 0, 0, 0, 0, 0, 0, 0, 0, 0, 0, 0],\n",
    "                [0, 0, 0, 0, 0, 0, 0, 0, 1, 1, 0, 1, 1, 0, 0, 0, 0, 0, 0, 0, 0, 0, 0, 0, 0, 0, 0, 0, 0, 0, 0],\n",
    "                [0, 0, 0, 0, 0, 0, 0, 0, 1, 1, 1, 1, 1, 0, 0, 0, 0, 0, 0, 0, 0, 0, 0, 0, 0, 0, 0, 0, 0, 0, 0],\n",
    "                [0, 0, 0, 0, 0, 0, 0, 0, 1, 1, 1, 1, 0, 0, 0, 0, 0, 0, 0, 0, 0, 0, 0, 0, 0, 0, 0, 0, 0, 0, 0],\n",
    "                [0, 0, 0, 0, 0, 0, 0, 0, 0, 0, 0, 0, 0, 0, 0, 0, 0, 1, 1, 1, 1, 0, 0, 0, 0, 0, 0, 0, 0, 0, 0],\n",
    "                [0, 0, 0, 0, 0, 0, 0, 0, 0, 0, 0, 0, 0, 0, 0, 0, 0, 1, 1, 1, 1, 0, 0, 0, 0, 0, 0, 0, 0, 0, 0],\n",
    "                [0, 0, 0, 0, 0, 0, 0, 0, 0, 0, 0, 0, 0, 0, 0, 0, 0, 1, 1, 1, 1, 0, 0, 0, 0, 0, 0, 0, 0, 0, 0],\n",
    "                [0, 0, 0, 0, 0, 0, 0, 0, 0, 0, 0, 0, 0, 0, 0, 0, 0, 1, 1, 1, 1, 0, 0, 0, 0, 0, 0, 0, 0, 0, 0],\n",
    "                [0, 0, 0, 0, 0, 0, 0, 0, 0, 0, 0, 0, 0, 1, 1, 1, 1, 0, 0, 0, 0, 0, 0, 0, 0, 0, 0, 0, 0, 0, 0],\n",
    "                [0, 0, 0, 0, 0, 0, 0, 0, 0, 0, 0, 0, 0, 1, 1, 1, 1, 0, 0, 0, 0, 0, 0, 0, 0, 0, 0, 0, 0, 0, 0],\n",
    "                [0, 0, 0, 0, 0, 0, 0, 0, 0, 0, 0, 0, 0, 1, 1, 1, 1, 0, 0, 0, 0, 0, 0, 0, 0, 0, 0, 0, 0, 0, 0],\n",
    "                [0, 0, 0, 0, 0, 0, 0, 0, 0, 0, 0, 0, 0, 1, 1, 1, 1, 0, 0, 0, 0, 0, 0, 0, 0, 0, 0, 0, 0, 0, 0],\n",
    "                [0, 0, 0, 0, 0, 0, 0, 0, 0, 0, 0, 0, 0, 0, 0, 0, 0, 0, 0, 0, 0, 0, 1, 1, 1, 1, 0, 0, 0, 0, 0],\n",
    "                [0, 0, 0, 0, 0, 0, 0, 0, 0, 0, 0, 0, 0, 0, 0, 0, 0, 0, 0, 0, 0, 1, 0, 1, 1, 1, 0, 0, 0, 0, 0],\n",
    "                [0, 0, 0, 0, 0, 0, 0, 0, 0, 0, 0, 0, 0, 0, 0, 0, 0, 0, 0, 0, 0, 1, 1, 0, 1, 1, 0, 0, 0, 0, 0],\n",
    "                [0, 0, 0, 0, 0, 0, 0, 0, 0, 0, 0, 0, 0, 0, 0, 0, 0, 0, 0, 0, 0, 1, 1, 1, 1, 1, 0, 0, 0, 0, 0],\n",
    "                [0, 0, 0, 0, 0, 0, 0, 0, 0, 0, 0, 0, 0, 0, 0, 0, 0, 0, 0, 0, 0, 1, 1, 1, 1, 0, 0, 0, 0, 0, 0],\n",
    "                [0, 0, 0, 0, 0, 0, 0, 0, 0, 0, 0, 0, 0, 0, 0, 0, 0, 0, 0, 0, 0, 0, 0, 0, 0, 0, 0, 1, 1, 1, 1],\n",
    "                [0, 0, 0, 0, 0, 0, 0, 0, 0, 0, 0, 0, 0, 0, 0, 0, 0, 0, 0, 0, 0, 0, 0, 0, 0, 0, 1, 0, 1, 1, 1],\n",
    "                [0, 0, 0, 0, 0, 0, 0, 0, 0, 0, 0, 0, 0, 0, 0, 0, 0, 0, 0, 0, 0, 0, 0, 0, 0, 0, 1, 1, 0, 1, 1],\n",
    "                [0, 0, 0, 0, 0, 0, 0, 0, 0, 0, 0, 0, 0, 0, 0, 0, 0, 0, 0, 0, 0, 0, 0, 0, 0, 0, 1, 1, 1, 0, 1],\n",
    "                [0, 0, 0, 0, 0, 0, 0, 0, 0, 0, 0, 0, 0, 0, 0, 0, 0, 0, 0, 0, 0, 0, 0, 0, 0, 0, 1, 1, 1, 1, 0]]) \n",
    "\n",
    "G13 = sy.Matrix(G13)\n",
    "G13.eigenvals()"
   ]
  }
 ],
 "metadata": {
  "kernelspec": {
   "display_name": "Python 3 (ipykernel)",
   "language": "python",
   "name": "python3"
  },
  "language_info": {
   "codemirror_mode": {
    "name": "ipython",
    "version": 3
   },
   "file_extension": ".py",
   "mimetype": "text/x-python",
   "name": "python",
   "nbconvert_exporter": "python",
   "pygments_lexer": "ipython3",
   "version": "3.9.13"
  }
 },
 "nbformat": 4,
 "nbformat_minor": 5
}
